{
 "cells": [
  {
   "cell_type": "markdown",
   "id": "527ceb85",
   "metadata": {},
   "source": [
    "# <center> <h1><font color=blue> Compte rendu TP3: </font></h1></center>"
   ]
  },
  {
   "cell_type": "code",
   "execution_count": 9,
   "id": "9e4feb19",
   "metadata": {},
   "outputs": [],
   "source": [
    "%matplotlib inline\n",
    "import ipywidgets as widgets\n",
    "import matplotlib.pyplot as plt\n",
    "import numpy as np\n",
    "from numpy import *\n",
    "from ipywidgets import interact, interactive, fixed, interact_manual\n",
    "import ipywidgets as widgets"
   ]
  },
  {
   "cell_type": "code",
   "execution_count": 10,
   "id": "a2965915",
   "metadata": {},
   "outputs": [],
   "source": [
    "class RectangleG ( object ) :\n",
    "    def __init__ (self , a , b , n , f ) :\n",
    "        self.a = a\n",
    "        self.b = b\n",
    "        self.x = np.linspace( a , b , n+1 )\n",
    "        self.f = f\n",
    "        self.n = n\n",
    "    def integrate ( self , f ) :\n",
    "        x= self.x\n",
    "        y= f( x )\n",
    "        h = float( x[1] - x[0] )\n",
    "        s = sum( y[ 0 : -1 ] )\n",
    "        return h * s\n",
    "    def Graph ( self , f , resolution =1001 ) :\n",
    "        xl = self.x\n",
    "        yl = f(xl)\n",
    "        xlist_fine =np.linspace( self.a , self.b , resolution )\n",
    "        for i in range ( self.n ) :\n",
    "            x_rect = [xl[ i ] , xl[ i ] , xl[ i + 1 ] , xl[i+1] , xl[ i ] ] # abscisses des sommets\n",
    "            y_rect = [0 , yl[ i ] , yl[ i ] , 0 , 0 ] # ordonnees des sommets\n",
    "            plt.plot ( x_rect , y_rect , 'r' )\n",
    "        yflist_fine = f ( xlist_fine )\n",
    "        _=plt.plot ( xlist_fine , yflist_fine )\n",
    "        _=plt.plot(xl, yl,\"bo\")\n",
    "        _=plt.xlabel ( 'x' )\n",
    "        _=plt.ylabel ( ' f ( x ) ' )\n",
    "        _=plt.title ( ' Methode des rectangles gauches' )\n",
    "        #plt.text( 0.5*( self.a+ self.b ) , f(self.b ) , 'I_{} ={:0.8f}'.format(self.n,self.integrate( f ) ) , fontsize =15 )\n",
    "        plt.show()"
   ]
  },
  {
   "cell_type": "code",
   "execution_count": 11,
   "id": "7b756a32",
   "metadata": {},
   "outputs": [],
   "source": [
    "class Msimpson(object):\n",
    "    def __init__(self, a, b, n, f): \n",
    "        self.a = a\n",
    "        self.b = b\n",
    "        self.x = np.linspace(a, b, n+1)\n",
    "        self.f = f\n",
    "        self.n = n \n",
    "\n",
    "    def integrate(self,f):\n",
    "        x=self.x  \n",
    "        y=f(x) \n",
    "        h = float(x[1] - x[0])\n",
    "        n = len(x) - 1\n",
    "        if n % 2 == 1:\n",
    "            n -= 1\n",
    "        s = y[0] + y[n] + 4.0 * sum(y[1:-1:2]) + 2.0 * sum(y[2:-2:2])\n",
    "        return h * s / 3.0\n",
    "    def Graph(self,f,resolution=1001):\n",
    "        x1 = self.x \n",
    "        yl = f(x1) \n",
    "        xlist_fine=np.linspace(self.a, self.b, resolution)\n",
    "        for i in range(self.n): \n",
    "            xx=np.linspace(x1[i], x1[i+1], resolution)\n",
    "            m=(x1[i]+x1[i+1])/2 \n",
    "            a=x1[i]\n",
    "            b=x1[i+1] \n",
    "            l0 = (xx-m)/(a-m)*(xx-b)/(a-b)\n",
    "            l1 = (xx-a)/(m-a)*(xx-b)/(m-b)\n",
    "            l2 = (xx-a)/(b-a)*(xx-m)/(b-m)\n",
    "            P = f(a)*l0 + f(m)*l1 + f(b)*l2 \n",
    "            plt.plot(xx,P,'m') \n",
    "            yflist_fine = f(xlist_fine) \n",
    "        plt.plot(xlist_fine, yflist_fine,'g')\n",
    "        plt.plot(x1, yl , \"p\") \n",
    "        plt.ylabel('f(x)')\n",
    "        plt.title('Simpson')\n",
    "        plt.show()"
   ]
  },
  {
   "cell_type": "code",
   "execution_count": 12,
   "id": "e99b62ee",
   "metadata": {},
   "outputs": [],
   "source": [
    "class Mmilieu(object): \n",
    "    def __init__(self, a, b, n, f):\n",
    "        self.a = a\n",
    "        self.b = b\n",
    "        self.x = np.linspace(a, b, n+1)\n",
    "        self.f = f\n",
    "        self.n = n\n",
    "    def integrate(self,f):\n",
    "        x=self.x  \n",
    "        h = float(x[1] - x[0])\n",
    "        s=0\n",
    "        for i in range(self.n):\n",
    "            s=s+f((x[i]+x[i+1])*0.5)\n",
    "        return h*s\n",
    "       \n",
    "    def Graph(self , f ,resolution=1001):\n",
    "        xl = self.x\n",
    "        yl=f(xl);\n",
    "        xlist_fine=np.linspace(self.a, self.b, resolution)\n",
    "        \n",
    "        for i in range(self.n):\n",
    "            \n",
    "            m=(xl[i]+xl[i+1])/2\n",
    "            x_rect = [xl[i], xl[i], xl[i+1], xl[i+1], xl[i]] \n",
    "            y_rect = [0   , f(m), f(m)  , 0     , 0   ] \n",
    "            plt.plot(x_rect, y_rect,\"b\")\n",
    "            yflist_fine = f(xlist_fine)\n",
    "        plt.plot(xlist_fine, yflist_fine)\n",
    "        plt.plot(m,f(m),\"y*\")\n",
    "        plt.xlabel('x')\n",
    "        plt.ylabel('f(x)')\n",
    "        plt.title('Milieu')\n",
    "        plt.show()"
   ]
  },
  {
   "cell_type": "code",
   "execution_count": 13,
   "id": "ca9f7a9a",
   "metadata": {},
   "outputs": [],
   "source": [
    "class Trapezoidal(object):\n",
    "    def __init__(self, a, b, n, f):\n",
    "        self.a = a\n",
    "        self.b = b\n",
    "        self.x = np.linspace(a, b, n+1)\n",
    "        self.f = f\n",
    "        self.n = n\n",
    "    def integrate(self,f):\n",
    "        x=self.x\n",
    "        y=f(x)\n",
    "        h = float(x[1] - x[0])\n",
    "        s = y[0] + y[-1] + 2.0*sum(y[1:-1])\n",
    "        return h * s / 2.0\n",
    "    def Graph(self,f,resolution=1001):\n",
    "        xl = self.x\n",
    "        yl = f(xl)\n",
    "        xlist_fine=np.linspace(self.a, self.b, resolution)\n",
    "        for i in range(self.n):\n",
    "            x_rect = [xl[i], xl[i], xl[i+1], xl[i+1], xl[i]] # abscisses des sommets\n",
    "            y_rect = [0   , yl[i], yl[i+1]  , 0     , 0   ] # ordonnees des sommets\n",
    "            plt.plot(x_rect, y_rect,\"m\")\n",
    "        yflist_fine = f(xlist_fine)\n",
    "        plt.plot(xlist_fine, yflist_fine)#plot de f(x)\n",
    "        plt.plot(xl, yl,\"cs\")#point support\n",
    "        plt.ylabel ( ' f ( x ) ' )\n",
    "        plt.title ( ' Methode des Trapèzes' )\n",
    "        #plt.text( 0.5*( self.a+ self.b ) , f(self.b ) , 'I_{} ={:0.8f}'.format(self.n,self.integrate( f ) ) , fontsize =15 )"
   ]
  },
  {
   "cell_type": "code",
   "execution_count": 14,
   "id": "c56d7819",
   "metadata": {},
   "outputs": [],
   "source": [
    "from scipy.integrate import quad\n"
   ]
  },
  {
   "cell_type": "code",
   "execution_count": null,
   "id": "f04c3cbb",
   "metadata": {},
   "outputs": [],
   "source": []
  },
  {
   "cell_type": "code",
   "execution_count": 15,
   "id": "bc4a3014",
   "metadata": {
    "scrolled": true
   },
   "outputs": [
    {
     "data": {
      "application/vnd.jupyter.widget-view+json": {
       "model_id": "288c8d7d5a2a45c89ea461f1522ab1c2",
       "version_major": 2,
       "version_minor": 0
      },
      "text/plain": [
       "interactive(children=(Dropdown(description='methode', options=('Méthode des trapèzes', 'Méthode des rectangles…"
      ]
     },
     "metadata": {},
     "output_type": "display_data"
    }
   ],
   "source": [
    "@interact(methode=['Méthode des trapèzes','Méthode des rectangles','Méthode de simpson','Méthode du point milieu'],\n",
    "          a=-np.pi,b=np.pi,\n",
    "          n=[5,25,50],\n",
    "          f={'f(x)=sin(x)':lambda x:np.sin(x),'g(x)=x**2+x-1':lambda x:x**2+x-1, 'h(x)=cos(x)':lambda x:np.cos(x), 'e(x)=1/1+x**2':lambda x:1/1+x**2})\n",
    "def test(methode,a,b,n,f):\n",
    "    I = quad(f, a, b)[0]\n",
    "    meth={'Méthode des trapèzes':Trapezoidal,'Méthode des rectangles':RectangleG, 'Méthode de simpson':Msimpson, 'Méthode du point milieu': Mmilieu}\n",
    "    M=meth[methode](a,b,n,f)\n",
    "    print('l'' intégrale avec la méthode {}= {}'.format(methode,M.integrate(f)))\n",
    "    print('l'' erreur d''intégration = {}'.format(I-M.integrate(f)))\n",
    "    M.Graph(f)\n",
    "    plt.show()\n",
    "\n",
    "    "
   ]
  },
  {
   "cell_type": "code",
   "execution_count": 16,
   "id": "6996499c",
   "metadata": {},
   "outputs": [],
   "source": [
    "plt.show()"
   ]
  }
 ],
 "metadata": {
  "kernelspec": {
   "display_name": "Python 3",
   "language": "python",
   "name": "python3"
  },
  "language_info": {
   "codemirror_mode": {
    "name": "ipython",
    "version": 3
   },
   "file_extension": ".py",
   "mimetype": "text/x-python",
   "name": "python",
   "nbconvert_exporter": "python",
   "pygments_lexer": "ipython3",
   "version": "3.8.8"
  }
 },
 "nbformat": 4,
 "nbformat_minor": 5
}
